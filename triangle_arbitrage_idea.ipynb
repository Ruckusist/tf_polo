{
 "cells": [
  {
   "cell_type": "code",
   "execution_count": 1,
   "metadata": {
    "collapsed": true,
    "deletable": true,
    "editable": true
   },
   "outputs": [],
   "source": [
    "## import system installed packages.\n",
    "import os                # for filesystem access\n",
    "import sys               # for system sensors on flowing tensors.\n",
    "import tensorflow as tf  # lets the tensors flow.\n",
    "import numpy as np       # most tf objects are built from numpy.\n",
    "import pandas as pd      # data holder manager.\n",
    "from pandas.io.json import json_normalize  # json to pandas converter.\n",
    "from datetime import datetime, timedelta   # need unix 2 real and visa-versa.\n",
    "import time                 # i never know which time is better for what... but there is no time for that...\n",
    "import json                 # data from web comes as json.\n",
    "import urllib               # for web calls.\n",
    "from urllib import request  # for secure web connections."
   ]
  },
  {
   "cell_type": "code",
   "execution_count": 2,
   "metadata": {
    "collapsed": true,
    "deletable": true,
    "editable": true
   },
   "outputs": [],
   "source": [
    "## we are gonna try to NOT use anything that isnt pypy installable or on\n",
    "## this page... This page is going to get long i think. from this point,\n",
    "## setting up ALL the global variables, like fs_paths, save points, how\n",
    "## much work to do, web urls if necessary, global stuff."
   ]
  },
  {
   "cell_type": "code",
   "execution_count": 3,
   "metadata": {
    "collapsed": true,
    "deletable": true,
    "editable": true
   },
   "outputs": [],
   "source": [
    "class Options(object):\n",
    "    \"\"\"An object that contains all global variables that might be needed,\n",
    "       in various locations.\n",
    "       \n",
    "       A good way to put the human readable controls upfront where the\n",
    "       driver can find them.\n",
    "    \"\"\"\n",
    "\n",
    "    def __init__(self):\n",
    "        \"\"\"All public options go here.\"\"\"\n",
    "        self.model_save_path = 'save_path'  # NOT SET\n",
    "        self.data_save_path = 'data_path'   # NOT SET\n",
    "        self.data_filename = 'poloniex_historical_data_all_{}.npz'\n",
    "        \n",
    "        #### poloniex api variables #####\n",
    "        self._coin = 'BTC_ETH'\n",
    "        self._candle_period = 300\n",
    "        # about 2 weeks ... now - a million seconds\n",
    "        self._start_time = int(time.time()) - 1000000\n",
    "        # 9999999999 means most current by poloniex standard api\n",
    "        # see how im mixing time libs cause i dont know whats better?\n",
    "        self._end_time = int(time.time())\n",
    "\n",
    "    def __str__(self):\n",
    "        \"\"\"Make sense from calling an object, not a memory position.\"\"\"\n",
    "        return self.model_save_path\n",
    "\n",
    "    def __call__(self):\n",
    "        \"\"\"Directly print out all available options.\"\"\"\n",
    "        print(\"##########\\n#\\tAll Available Options:\")\n",
    "        for i in sorted(self.__dict__):\n",
    "            print(\"#\\t{}:  {}\".format(i, self.__dict__['{}'.format(i)]))\n",
    "### The options CLASS is refered to as the CONFIG(config)...\n",
    "config = Options()"
   ]
  },
  {
   "cell_type": "code",
   "execution_count": 4,
   "metadata": {
    "collapsed": true,
    "deletable": true,
    "editable": true
   },
   "outputs": [],
   "source": [
    "### Print out all the config usage and variables.\n",
    "while False:\n",
    "    print(\"Config itself is reference to the model save path:\\n\\t{}\".format(\n",
    "        config))\n",
    "    print(\"Calling config will print a list of all the options for reference.\")\n",
    "    config()\n",
    "    break;"
   ]
  },
  {
   "cell_type": "code",
   "execution_count": 5,
   "metadata": {
    "collapsed": true,
    "deletable": true,
    "editable": true
   },
   "outputs": [],
   "source": [
    "### No Api credentials are necessary, poloniex would like to see,\n",
    "### less than 20 api calls a minute... so sleep for 3 secs is best,\n",
    "### BUT... i think you can get 20 a sec at most... but I wouldnt push it.\n",
    "def quote_history(coin=\"BTC_ETH\", period=900, start=00, end=9999999999):\n",
    "    \"\"\"Poloniex public chart data with candlesticks.\"\"\"\n",
    "    # start = int(time.time() - 1000000)\n",
    "    with urllib.request.urlopen(\n",
    "        'https://poloniex.com/public?command=returnChartData&currencyPair={}&start={}&end={}&period={}'.format(\n",
    "        coin, start, end, period\n",
    "        )\n",
    "                    ) as url:\n",
    "        data = json.loads(url.read().decode('UTF-8'))\n",
    "    return data\n",
    "\n",
    "def ticker():\n",
    "    \"\"\"Poloniex public ticker.\"\"\"\n",
    "    with urllib.request.urlopen(\n",
    "        'https://poloniex.com/public?command=returnTicker'\n",
    "                    ) as url:\n",
    "        data = json.loads(url.read().decode('UTF-8'))\n",
    "    return data\n",
    "\n",
    "while False:\n",
    "    # test to make sure we are getting the api call right.\n",
    "    print(quote_history(config._coin, \n",
    "                        config._candle_period, \n",
    "                        config._start_time+99000,\n",
    "                        config._end_time))\n",
    "    print(ticker())\n",
    "    break;"
   ]
  },
  {
   "cell_type": "code",
   "execution_count": 6,
   "metadata": {
    "collapsed": true,
    "deletable": true,
    "editable": true
   },
   "outputs": [],
   "source": [
    "### poloniex reports everything in unix time. But plotting in real-time\n",
    "### is better. So we need to convert back and forth."
   ]
  },
  {
   "cell_type": "code",
   "execution_count": 7,
   "metadata": {
    "collapsed": true,
    "deletable": true,
    "editable": true
   },
   "outputs": [],
   "source": [
    "def to_unix_time(dt):\n",
    "    \"\"\"Take a datetime formated string and return a unix time.\"\"\"\n",
    "    epoch =  datetime.utcfromtimestamp(0)\n",
    "    return (dt - epoch).total_seconds() * 1000\n",
    "def to_date_time(ut):\n",
    "    \"\"\"You guessed it! take a unix time string.\n",
    "       THEN handle with care(float,int), then return just the date.\n",
    "    \"\"\"\n",
    "    return datetime.fromtimestamp(int(float(ut))).strftime('%Y-%m-%d')"
   ]
  },
  {
   "cell_type": "code",
   "execution_count": 8,
   "metadata": {
    "collapsed": true,
    "deletable": true,
    "editable": true
   },
   "outputs": [],
   "source": [
    "### GENERALLY using of a pandas dataframe accessing the Yahoo stock api\n",
    "### is what is used in most tutorials. Now that our poloniex apicall is \n",
    "### real similiar to the yahoo one. we should be able to use this data in\n",
    "### real-time."
   ]
  },
  {
   "cell_type": "code",
   "execution_count": 9,
   "metadata": {
    "collapsed": true,
    "deletable": true,
    "editable": true
   },
   "outputs": [],
   "source": [
    "# Collect a test dataframe from the exchange\n",
    "df = json_normalize(quote_history(config._coin,\n",
    "                                  config._candle_period,\n",
    "                                  config._start_time,\n",
    "                                  config._end_time))"
   ]
  },
  {
   "cell_type": "code",
   "execution_count": 10,
   "metadata": {
    "collapsed": false,
    "deletable": true,
    "editable": true
   },
   "outputs": [
    {
     "name": "stdout",
     "output_type": "stream",
     "text": [
      "Time Period: 11 days, 13:45:00\n",
      "Start Date: 2017-07-05\n",
      "End Date: 2017-07-17\n",
      "Columns to explore:\n",
      "\t-  close\n",
      "\t-  date\n",
      "\t-  high\n",
      "\t-  low\n",
      "\t-  open\n",
      "\t-  quoteVolume\n",
      "\t-  volume\n",
      "\t-  weightedAverage\n"
     ]
    }
   ],
   "source": [
    "### print out some information about the dataframe.\n",
    "while True:\n",
    "    \"\"\"Make sure the data is where its supposed to be.\"\"\"\n",
    "    # print(df)\n",
    "    # start with the 0th date\n",
    "    start_date = to_date_time(df['date'][0])\n",
    "    # end with -1th date\n",
    "    end_date = to_date_time(df['date'][-1:])\n",
    "    date_period = timedelta(seconds=int(float(df['date'][-1:])) - int(float(df['date'][0])))\n",
    "    print(\"Time Period: {}\\nStart Date: {}\\nEnd Date: {}\".format(\n",
    "        date_period,\n",
    "        start_date,\n",
    "        end_date\n",
    "    ))\n",
    "    print('Columns to explore:')\n",
    "    for i in df:\n",
    "        print('\\t- ', i)\n",
    "    break;"
   ]
  },
  {
   "cell_type": "code",
   "execution_count": 11,
   "metadata": {
    "collapsed": true,
    "deletable": true,
    "editable": true
   },
   "outputs": [],
   "source": [
    "### IN plotly i needed to update all the unix times to real-times but i,\n",
    "### dont know if that is the case here. so we can leave it in... and false\n",
    "### for now.\n",
    "while False:\n",
    "    # need to update away from unixtime and into realtime\n",
    "    print('Changing from unix time to datetime...\\nThis will take a sec...')\n",
    "    for index, key in enumerate(df['date']):\n",
    "        df['date'][index] = to_date_time(key)\n",
    "    print('Finished Changing dates')\n",
    "    break;"
   ]
  },
  {
   "cell_type": "markdown",
   "metadata": {
    "deletable": true,
    "editable": true
   },
   "source": [
    "Inventory of objects:\n",
    "    - config\n",
    "    - df\n",
    "    - quote_history()\n",
    "Nearly prepared for tensorflow. but we still need a saving data mechinizm.\n",
    "Needs:\n",
    "    - save to a pickle or npz object.\n",
    "    - save to redis or mongo or mysql"
   ]
  },
  {
   "cell_type": "code",
   "execution_count": 12,
   "metadata": {
    "collapsed": true,
    "deletable": true,
    "editable": true
   },
   "outputs": [],
   "source": [
    "### OKAY... BRIGHT IDEA!!! how about i just... GRAB ALL THAT DATA ONCE AND\n",
    "### FOR ALL... stuff it into a numpy object... boom all_data.npz\n",
    "### i need the ticker data for that. then candles 300 - 5 mins... for real...\n",
    "### all time quote for each one in the ticker..."
   ]
  },
  {
   "cell_type": "code",
   "execution_count": 13,
   "metadata": {
    "collapsed": true,
    "deletable": true,
    "editable": true
   },
   "outputs": [],
   "source": [
    "# single_tick = json_normalize(ticker())"
   ]
  },
  {
   "cell_type": "code",
   "execution_count": 14,
   "metadata": {
    "collapsed": true,
    "deletable": true,
    "editable": true
   },
   "outputs": [],
   "source": [
    "single_tick = pd.DataFrame(ticker())"
   ]
  },
  {
   "cell_type": "code",
   "execution_count": 15,
   "metadata": {
    "collapsed": false,
    "deletable": true,
    "editable": true
   },
   "outputs": [
    {
     "name": "stdout",
     "output_type": "stream",
     "text": [
      "rows to explore: 10\n",
      "BTC_AMP\n",
      "baseVolume           117.39029492\n",
      "high24hr               0.00008425\n",
      "highestBid             0.00008302\n",
      "id                            160\n",
      "isFrozen                        0\n",
      "last                   0.00008309\n",
      "low24hr                0.00007209\n",
      "lowestAsk              0.00008309\n",
      "percentChange          0.14040625\n",
      "quoteVolume      1473617.95229485\n",
      "Name: BTC_AMP, dtype: object\n",
      "Columns to explore: 90\n"
     ]
    }
   ],
   "source": [
    "### print out some information about the dataframe.\n",
    "while True:\n",
    "    \"\"\"Make sure the data is where its supposed to be.\"\"\"\n",
    "    # print(single_tick)\n",
    "    print('rows to explore: {}'.format(len(single_tick)))\n",
    "    col = 0\n",
    "    for i, e in enumerate(single_tick):\n",
    "        if i in range(1):\n",
    "            print('{}'.format(e))\n",
    "            print(single_tick[e])\n",
    "            #for j in single_tick[e]:\n",
    "                #print(j)\n",
    "        col += 1\n",
    "    print('Columns to explore: {}'.format(col))\n",
    "    break;"
   ]
  },
  {
   "cell_type": "code",
   "execution_count": 29,
   "metadata": {
    "collapsed": false
   },
   "outputs": [],
   "source": [
    "### find out arbritrage delta\n",
    "# starting balances\n",
    "start_bal_zec = .2 # zec\n",
    "start_bal_usdt = 0\n",
    "start_bal_btc = 0\n",
    "# last loop\n",
    "last_bal_zec = 0 # zec\n",
    "last_bal_usdt = 0\n",
    "last_bal_btc = 0\n",
    "# curr loop\n",
    "cur_bal_zec = 0.2 # zec\n",
    "cur_bal_usdt = 0\n",
    "cur_bal_btc = 0\n",
    "\n",
    "# timers\n",
    "cur_index = 0\n",
    "\n",
    "# globals\n",
    "l = 'last'\n",
    "# fee is .25% in whatever you are buying\n",
    "fee = .0025\n",
    "\n",
    "# placeholders\n",
    "dataset = dict()\n",
    "\n",
    "# abrtiage delta value\n",
    "ABT = 0"
   ]
  },
  {
   "cell_type": "code",
   "execution_count": 30,
   "metadata": {
    "collapsed": false
   },
   "outputs": [
    {
     "name": "stdout",
     "output_type": "stream",
     "text": [
      "#  | ABT for USDT holdings | #\n",
      "sale:0.20000000 ZEC for 0.01633047 BTC, fee: 0.00004093 BTC\n",
      "sale:0.01633047 BTC for 33.475 USDT, fee: 0.084 USDT\n",
      "sale:33.475 BTC for 0.19805192 ZEC, fee: 0.00049637 ZEC\n",
      "Current abt: 99.0260%\n",
      "No oppertunity for abt: ZEC -> BTC -> USDT -> ZEC\n"
     ]
    }
   ],
   "source": [
    "if True:\n",
    "    # starting sequence... always sleep to not piss off api\n",
    "    # time.sleep(2)\n",
    "    \n",
    "    # get the data\n",
    "    single_tick = pd.DataFrame(ticker())\n",
    "    for i in single_tick:\n",
    "        x = single_tick[i][l]\n",
    "        if 'BTC_ZEC' in i or 'USDT_BTC' in i or 'USDT_ZEC' in i:\n",
    "            # print(\"{}\\n\\t{}: {}\".format(i, l, x))\n",
    "            dataset[i] = x\n",
    "            \n",
    "    ##\n",
    "    print(\"#  | ABT for USDT holdings | #\")\n",
    "    # zec -> btc -> usdt : zec -> usdt -> zec\n",
    "    #zec_usdt = float(dataset['USDT_ZEC']) * bal_zec\n",
    "    #ex1_fee = zec_usdt * fee\n",
    "    #zec_usdt -= ex1_fee\n",
    "    #print(\"total usdt bal after zec sale: {:.8f}, fee: {:.3f}\".format(zec_usdt, ex1_fee))\n",
    "    \n",
    "    \"\"\"now zec -> btc\"\"\"\n",
    "    # adjust balances\n",
    "    last_bal_btc = cur_bal_btc\n",
    "    cur_bal_btc = float(single_tick['BTC_ZEC']['lowestAsk']) * cur_bal_zec\n",
    "    last_bal_zec = float(cur_bal_zec)\n",
    "    cur_bal_zec = 0\n",
    "    \n",
    "    # subtract fees\n",
    "    ex2_fee = cur_bal_btc * fee\n",
    "    cur_bal_btc -= ex2_fee\n",
    "    \n",
    "    # final\n",
    "    print(\"sale:{:.8f} ZEC for {:.8f} BTC, fee: {:.8f} BTC\".format(last_bal_zec, cur_bal_btc, ex2_fee))\n",
    "    \n",
    "    \"\"\"now btc -> USDT\"\"\"\n",
    "    # adjust balances\n",
    "    last_bal_usdt = cur_bal_usdt\n",
    "    cur_bal_usdt = float(single_tick['USDT_BTC']['lowestAsk']) * cur_bal_btc\n",
    "    last_bal_btc = cur_bal_btc\n",
    "    cur_bal_btc = 0\n",
    "    \n",
    "    # subtract fees    \n",
    "    ex3_fee = cur_bal_usdt * fee\n",
    "    cur_bal_usdt -= ex3_fee\n",
    "    \n",
    "    # final\n",
    "    print(\"sale:{:.8f} BTC for {:.3f} USDT, fee: {:.3f} USDT\".format(last_bal_btc, cur_bal_usdt, ex3_fee))\n",
    "    \n",
    "    \"\"\"now USDT -> ZEC\"\"\"\n",
    "    # adjust balances\n",
    "    cur_bal_zec = cur_bal_usdt / float(single_tick['USDT_ZEC']['lowestAsk'])\n",
    "    last_bal_usdt = cur_bal_usdt\n",
    "    cur_bal_usdt = 0\n",
    "    \n",
    "    # subtract fees\n",
    "    ex4_fee = cur_bal_zec * fee\n",
    "    cur_bal_zec -= ex4_fee\n",
    "    \n",
    "    # final\n",
    "    print(\"sale:{:.3f} BTC for {:.8f} ZEC, fee: {:.8f} ZEC\".format(last_bal_usdt, cur_bal_zec, ex4_fee))\n",
    "    \n",
    "    abt = 100*(cur_bal_zec / last_bal_zec)\n",
    "    print(\"Current abt: {:.4f}%\".format(abt))\n",
    "    if abt > 100.5:\n",
    "        print(\"starting abt strategy\")\n",
    "    else:\n",
    "        print(\"No oppertunity for abt: ZEC -> BTC -> USDT -> ZEC\")\n",
    "    \n",
    "    # transaction time...\n",
    "    # time.sleep(5)"
   ]
  },
  {
   "cell_type": "code",
   "execution_count": null,
   "metadata": {
    "collapsed": false
   },
   "outputs": [],
   "source": [
    "if True:\n",
    "    # starting sequence... always sleep to not piss off api\n",
    "    # time.sleep(2)\n",
    "    print(\"#  | ABT for USDT holdings | #\")\n",
    "    \n",
    "    \"\"\"zec -> btc\"\"\"\n",
    "    # adjust balances\n",
    "    last_bal_btc = cur_bal_btc\n",
    "    cur_bal_btc = float(single_tick['BTC_LTC']['lowestAsk']) * cur_bal_zec\n",
    "    last_bal_zec = float(cur_bal_zec)\n",
    "    cur_bal_zec = 0\n",
    "    \n",
    "    # subtract fees\n",
    "    ex2_fee = bal_btc * fee\n",
    "    cur_bal_btc -= ex2_fee\n",
    "    \n",
    "    # final\n",
    "    print(\"sale:{:.8f} ZEC for {:.8f} BTC, fee: {:.8f} BTC\".format(last_bal_zec, cur_bal_btc, ex2_fee))\n",
    "    \n",
    "    \"\"\"btc -> USDT\"\"\"\n",
    "    # adjust balances\n",
    "    last_bal_usdt = cur_bal_usdt\n",
    "    cur_bal_usdt = float(single_tick['USDT_LTC']['lowestAsk']) * cur_bal_btc\n",
    "    last_bal_btc = cur_bal_btc\n",
    "    cur_bal_btc = 0\n",
    "    \n",
    "    # subtract fees    \n",
    "    ex3_fee = cur_bal_usdt * fee\n",
    "    cur_bal_usdt -= ex3_fee\n",
    "    \n",
    "    # final\n",
    "    print(\"sale:{:.8f} BTC for {:.3f} USDT, fee: {:.3f} USDT\".format(last_bal_btc, cur_bal_usdt, ex3_fee))\n",
    "    \n",
    "    \"\"\"USDT -> zec\"\"\"\n",
    "    # adjust balances\n",
    "    cur_bal_zec = cur_bal_usdt / float(single_tick['USDT_LTC']['lowestAsk'])\n",
    "    last_bal_usdt = cur_bal_usdt\n",
    "    cur_bal_usdt = 0\n",
    "    \n",
    "    # subtract fees\n",
    "    ex4_fee = cur_bal_zec * fee\n",
    "    cur_bal_zec -= ex4_fee\n",
    "    \n",
    "    # final\n",
    "    print(\"sale:{:.3f} BTC for {:.8f} ZEC, fee: {:.8f} ZEC\".format(last_bal_usdt, cur_bal_zec, ex4_fee))\n",
    "    \n",
    "    # abt is new price / old price ... if > 1 abt is a go.\n",
    "    abt = cur_bal_zec / last_bal_zec\n",
    "    print(\"Current abt: {:.4f}%\".format(abt))\n",
    "    if abt > 1:\n",
    "        print(\"starting abt strategy\")\n",
    "    else:\n",
    "        print(\"No oppertunity for abt: ZEC -> BTC -> USDT -> ZEC\")\n",
    "    \n",
    "    # transaction time...\n",
    "    # time.sleep(5)"
   ]
  },
  {
   "cell_type": "code",
   "execution_count": null,
   "metadata": {
    "collapsed": false
   },
   "outputs": [],
   "source": [
    "if True:\n",
    "    # starting sequence... always sleep to not piss off api\n",
    "    # time.sleep(2)\n",
    "    print(\"#  | ABT for USDT holdings | #\")\n",
    "    \n",
    "    \"\"\"zec -> btc\"\"\"\n",
    "    # adjust balances\n",
    "    last_bal_btc = cur_bal_btc\n",
    "    cur_bal_btc = float(single_tick['BTC_XMR']['lowestAsk']) * cur_bal_zec\n",
    "    last_bal_zec = float(cur_bal_zec)\n",
    "    cur_bal_zec = 0\n",
    "    \n",
    "    # subtract fees\n",
    "    ex2_fee = bal_btc * fee\n",
    "    cur_bal_btc -= ex2_fee\n",
    "    \n",
    "    # final\n",
    "    print(\"sale:{:.8f} ZEC for {:.8f} BTC, fee: {:.8f} BTC\".format(last_bal_zec, cur_bal_btc, ex2_fee))\n",
    "    \n",
    "    \"\"\"btc -> USDT\"\"\"\n",
    "    # adjust balances\n",
    "    last_bal_usdt = cur_bal_usdt\n",
    "    cur_bal_usdt = float(single_tick['USDT_XMR']['lowestAsk']) * cur_bal_btc\n",
    "    last_bal_btc = cur_bal_btc\n",
    "    cur_bal_btc = 0\n",
    "    \n",
    "    # subtract fees    \n",
    "    ex3_fee = cur_bal_usdt * fee\n",
    "    cur_bal_usdt -= ex3_fee\n",
    "    \n",
    "    # final\n",
    "    print(\"sale:{:.8f} BTC for {:.3f} USDT, fee: {:.3f} USDT\".format(last_bal_btc, cur_bal_usdt, ex3_fee))\n",
    "    \n",
    "    \"\"\"USDT -> zec\"\"\"\n",
    "    # adjust balances\n",
    "    cur_bal_zec = cur_bal_usdt / float(single_tick['USDT_XMR']['lowestAsk'])\n",
    "    last_bal_usdt = cur_bal_usdt\n",
    "    cur_bal_usdt = 0\n",
    "    \n",
    "    # subtract fees\n",
    "    ex4_fee = cur_bal_zec * fee\n",
    "    cur_bal_zec -= ex4_fee\n",
    "    \n",
    "    # final\n",
    "    print(\"sale:{:.3f} BTC for {:.8f} ZEC, fee: {:.8f} ZEC\".format(last_bal_usdt, cur_bal_zec, ex4_fee))\n",
    "    \n",
    "    # abt is new price / old price ... if > 1 abt is a go.\n",
    "    abt = cur_bal_zec / last_bal_zec\n",
    "    print(\"Current abt: {:.4f}%\".format(abt))\n",
    "    if abt > 1:\n",
    "        print(\"starting abt strategy\")\n",
    "    else:\n",
    "        print(\"No oppertunity for abt: ZEC -> BTC -> USDT -> ZEC\")\n",
    "    \n",
    "    # transaction time...\n",
    "    # time.sleep(5)"
   ]
  },
  {
   "cell_type": "code",
   "execution_count": null,
   "metadata": {
    "collapsed": false,
    "deletable": true,
    "editable": true
   },
   "outputs": [],
   "source": [
    "#### get into the filesystem and get our data if we need it.\n",
    "if False:\n",
    "    if not os.path.isdir(config.data_save_path):\n",
    "        os.mkdir(config.data_save_path)\n",
    "    print(\"Found path: {}\".format(config.data_save_path))\n",
    "    data_filename = str(config.data_filename.format(to_date_time(time.time())))\n",
    "    print(data_filename)\n",
    "    cwd = os.getcwd()\n",
    "    print(cwd)\n",
    "    full_file_path = os.path.join(cwd, config.data_save_path, data_filename)\n",
    "    ## delete previous save.\n",
    "    if os.path.isfile(full_file_path):\n",
    "        'backing up old save_file'\n",
    "        os.rename(full_file_path, '{}.old'.format(full_file_path))\n",
    "    ## start the get and save download def.\n",
    "    if not os.path.isfile(full_file_path):\n",
    "        print(\"No dataset found, downloading new dataset. This will take some time.\")\n",
    "        print(\"New file being saved as {}\".format(full_file_path))\n",
    "        list_of_curpairs = []\n",
    "        set_of_data = {}\n",
    "        for i, e in enumerate(single_tick):\n",
    "            if 'ZEC' in e:\n",
    "                list_of_curpairs.append(e)\n",
    "                historical_data = json_normalize(\n",
    "                    quote_history(e,300,00,9999999999)\n",
    "                )\n",
    "                set_of_data['{}'.format(e)] = historical_data\n",
    "            ## LET 'ER REST...\n",
    "            time.sleep(.25)\n",
    "\n",
    "    print(len(set_of_data))"
   ]
  },
  {
   "cell_type": "code",
   "execution_count": null,
   "metadata": {
    "collapsed": true
   },
   "outputs": [],
   "source": []
  }
 ],
 "metadata": {
  "kernelspec": {
   "display_name": "Python 3",
   "language": "python",
   "name": "python3"
  },
  "language_info": {
   "codemirror_mode": {
    "name": "ipython",
    "version": 3
   },
   "file_extension": ".py",
   "mimetype": "text/x-python",
   "name": "python",
   "nbconvert_exporter": "python",
   "pygments_lexer": "ipython3",
   "version": "3.6.1"
  }
 },
 "nbformat": 4,
 "nbformat_minor": 2
}
